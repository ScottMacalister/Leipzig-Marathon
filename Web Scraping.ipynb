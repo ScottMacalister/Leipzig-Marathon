{
 "cells": [
  {
   "cell_type": "markdown",
   "id": "1c91a1f7-1cc5-44ef-bb7c-fcc310a8d503",
   "metadata": {},
   "source": [
    "# WEB SCRAPING\n",
    "\n",
    "#### This code scrapes race results data from the Leipzig Marathon 'Ergebnis-Datenbank' (Results Databank). \n",
    "\n",
    "#### The browser:\n",
    "\n",
    "- Selects the year from a dropdown menu.  \n",
    "\n",
    "- Checks how many pages of results exist for that year.  \n",
    "\n",
    "- Scrapes the table data on each page and adds it to a CSV file.  \n",
    "\n",
    "- Clicks the 'Weiter' (Next) button to move through all year data has been scraped.\n",
    "\n",
    "- Then, the script moves on to the next year in the list and repeats the process.\n",
    "\n",
    "#### Note: The loop runs from index 1 to 46, which covers the years 1977 to 2024 (1999 and 2022 are missing from the data).\n",
    "\n",
    "#### There's a short delay after each interaction to avoid overloading the server or triggering bot protection."
   ]
  },
  {
   "cell_type": "code",
   "execution_count": null,
   "id": "4a6b7865-ff38-4800-8e0b-f785ba136bbe",
   "metadata": {},
   "outputs": [],
   "source": [
    "# Libraries\n",
    "\n",
    "import time\n",
    "import csv\n",
    "from selenium import webdriver\n",
    "from selenium.webdriver.common.by import By\n",
    "from selenium.webdriver.support.ui import WebDriverWait, Select\n",
    "from selenium.webdriver.support import expected_conditions as EC\n",
    "from selenium.common.exceptions import StaleElementReferenceException, TimeoutException"
   ]
  },
  {
   "cell_type": "code",
   "execution_count": null,
   "id": "928b2b3b-9979-4cce-99ef-1939ca08cf12",
   "metadata": {},
   "outputs": [],
   "source": [
    "# Driver Setup\n",
    "\n",
    "chrome_options = webdriver.ChromeOptions()\n",
    "chrome_options.add_experimental_option(\"detach\", True)\n",
    "chrome_options.add_argument(\"user-agent=Mozilla/5.0 (Windows NT 10.0; Win64; x64; rv:131.0) Gecko/20100101 Firefox/131.0\")\n",
    "\n",
    "driver = webdriver.Chrome(options=chrome_options)\n",
    "driver.get(\"https://leipzigmarathon.de/ergebnis-suche/\")\n",
    "\n",
    "time.sleep(3)"
   ]
  },
  {
   "cell_type": "markdown",
   "id": "7da0ba0d-f540-494e-a0d0-0d7685e7a191",
   "metadata": {},
   "source": [
    "### calculate_number_of_clicks()\n",
    "#### This function finds all the pagination buttons. It waits up to 10 seconds for them to appear, then filters out any buttons that don’t have numeric text. From the list of numbers, it grabs the last one, which represents the highest page number (i.e. total pages), and returns it as an integer. If no buttons are found or if something goes wrong, it safely returns 0."
   ]
  },
  {
   "cell_type": "code",
   "execution_count": null,
   "id": "fd21bd75-3cb9-404d-a19b-7dfc66bc522d",
   "metadata": {},
   "outputs": [],
   "source": [
    "def calculate_number_of_clicks():\n",
    "    try:\n",
    "        pagination_buttons = WebDriverWait(driver, 10).until(\n",
    "            EC.visibility_of_all_elements_located((By.CSS_SELECTOR, \".gridjs-pages button\"))\n",
    "        )\n",
    "        page_numbers = [button.text for button in pagination_buttons if button.text.isdigit()]\n",
    "        return int(page_numbers[-1]) if page_numbers else 0\n",
    "    except Exception:\n",
    "        return 0"
   ]
  },
  {
   "cell_type": "markdown",
   "id": "8b070ab8-0dcf-4bb2-893b-318c48451633",
   "metadata": {},
   "source": [
    "### click_with_retry()\n",
    "#### This function tries to click on the 'Weiter' (Next) button, retrying up to 3 times if it fails. It looks for a button using its aria-label, waits until it’s clickable, and then clicks it using JavaScript. If the click succeeds, it returns True. If the button is stale or takes too long to appear, it waits 2 seconds and tries again. If all attempts fail, it returns False."
   ]
  },
  {
   "cell_type": "code",
   "execution_count": null,
   "id": "fa0729ed-bb3e-443b-b05c-fa747470efdf",
   "metadata": {},
   "outputs": [],
   "source": [
    "def click_with_retry(driver, button_aria_label, max_attempts=3):\n",
    "    for attempt in range(max_attempts):\n",
    "        try:\n",
    "            next_button = WebDriverWait(driver, 10).until(\n",
    "                EC.element_to_be_clickable((By.CSS_SELECTOR, f'button[aria-label=\"{button_aria_label}\"]'))\n",
    "            )\n",
    "            driver.execute_script(\"arguments[0].click();\", next_button)\n",
    "            time.sleep(2)\n",
    "            return True\n",
    "        except (StaleElementReferenceException, TimeoutException):\n",
    "            time.sleep(2)  \n",
    "\n",
    "    return False"
   ]
  },
  {
   "cell_type": "markdown",
   "id": "5e97d606-35be-4b56-92cc-24a0c5992937",
   "metadata": {},
   "source": [
    "### scrape_table_data()\n",
    "#### This function collects race results from a table and saves these to a CSV file named for the given year. It opens the file in append mode and writes the header only if the file is empty. Then, it finds all table rows, checks each one to see if it includes \"Marathon\" in the second column, and if so, extracts and cleans the text. It ensures each row has exactly 12 columns by trimming or padding as needed, then writes the cleaned data into the file."
   ]
  },
  {
   "cell_type": "code",
   "execution_count": null,
   "id": "d2319f36-eac5-45da-ab24-5322bcd76020",
   "metadata": {},
   "outputs": [],
   "source": [
    "def scrape_table_data(year):\n",
    "    filename = f\"scraped_data_{year}.csv\"\n",
    "\n",
    "    with open(filename, \"a\", newline=\"\", encoding=\"utf-8\") as file:\n",
    "        writer = csv.writer(file, quoting=csv.QUOTE_MINIMAL)\n",
    "\n",
    "        if file.tell() == 0:\n",
    "            writer.writerow([\"Datum\", \"Wettbewerb\", \"PlatzGesamt\", \"Name\", \"Vorname\", \"Nettozeit\",\n",
    "                             \"Ort/Verein\", \"Nation\", \"Jahrgang\", \"Alterklasse\", \"PlatzAk\", \"Bruttozeit\"])\n",
    "\n",
    "        rows = driver.find_elements(By.XPATH, \"//table/tbody/tr\")\n",
    "        for row in rows:\n",
    "            columns = row.find_elements(By.TAG_NAME, \"td\")\n",
    "\n",
    "            if len(columns) > 1:\n",
    "                wettbewerb = columns[1].text.strip()\n",
    "                if wettbewerb == \"Marathon\":\n",
    "                    row_data = [col.text.strip() for col in columns]\n",
    "\n",
    "                    row_data = row_data[:12] + [\"\"] * (12 - len(row_data))\n",
    "\n",
    "                    writer.writerow(row_data)"
   ]
  },
  {
   "cell_type": "markdown",
   "id": "c295fea2-0722-4cce-8403-1f90a63bd70b",
   "metadata": {},
   "source": [
    "### iterate_through_years_index()\n",
    "#### This function loops through each year from 1977 onward by selecting the corresponding index in a dropdown menu on the website. For each selected year, it waits for the page to load, checks how many pagination pages exist, and then scrapes the table data page by page using the scrape_table_data() function. If there are multiple pages, it clicks the \"Weiter\" (Next) button using click_with_retry() to move to the next one. If the click fails at any point, it stops scraping that year and moves on. The function includes short pauses to let pages load and reduce strain on the server."
   ]
  },
  {
   "cell_type": "code",
   "execution_count": null,
   "id": "f145d920-592c-4d1d-9a5a-37c0fe7307df",
   "metadata": {},
   "outputs": [],
   "source": [
    "def iterate_through_years_index():\n",
    "    start_year = 1977\n",
    "\n",
    "    for i in range(1, 47):\n",
    "        current_year = start_year + (i - 1)\n",
    "        years_element = driver.find_element(\"name\", \"wettkampf_select\")\n",
    "        dd = Select(years_element)\n",
    "        dd.select_by_index(i)\n",
    "        time.sleep(3)\n",
    "\n",
    "        total_pages = calculate_number_of_clicks()\n",
    "\n",
    "        for page_number in range(1, total_pages + 1):\n",
    "            scrape_table_data(current_year)\n",
    "\n",
    "            if page_number < total_pages:\n",
    "                button_aria_label = \"Weiter\"\n",
    "                success = click_with_retry(driver, button_aria_label)\n",
    "                if not success:\n",
    "                    break  \n",
    "\n",
    "            time.sleep(2)"
   ]
  },
  {
   "cell_type": "code",
   "execution_count": null,
   "id": "7c8d6cec-3130-44f4-9e9e-726665502586",
   "metadata": {},
   "outputs": [],
   "source": [
    "iterate_through_years_index()"
   ]
  },
  {
   "cell_type": "code",
   "execution_count": null,
   "id": "10a634fb-aff2-4dc1-aeca-ccb00607e6a2",
   "metadata": {},
   "outputs": [],
   "source": [
    "driver.quit()"
   ]
  }
 ],
 "metadata": {
  "kernelspec": {
   "display_name": "Python [conda env:base] *",
   "language": "python",
   "name": "conda-base-py"
  },
  "language_info": {
   "codemirror_mode": {
    "name": "ipython",
    "version": 3
   },
   "file_extension": ".py",
   "mimetype": "text/x-python",
   "name": "python",
   "nbconvert_exporter": "python",
   "pygments_lexer": "ipython3",
   "version": "3.12.2"
  }
 },
 "nbformat": 4,
 "nbformat_minor": 5
}
